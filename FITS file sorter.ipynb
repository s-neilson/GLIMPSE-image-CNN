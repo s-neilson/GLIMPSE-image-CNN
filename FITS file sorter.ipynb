{
 "cells": [
  {
   "cell_type": "code",
   "execution_count": 1,
   "metadata": {
    "collapsed": true
   },
   "outputs": [],
   "source": [
    "import os\n",
    "import csv\n",
    "import shutil"
   ]
  },
  {
   "cell_type": "code",
   "execution_count": 2,
   "metadata": {
    "collapsed": true
   },
   "outputs": [],
   "source": [
    "objectTypeDataFilePath=os.getcwd()+\"/Object types CSV.csv\"\n",
    "originalFitsPath=os.getcwd()+\"/CORNISH_FITS_I\"\n",
    "newFitsPath=os.getcwd()+\"/CORNISH_FITS_I_SORTED\"\n",
    "fitsSuffixLength=8"
   ]
  },
  {
   "cell_type": "code",
   "execution_count": 3,
   "metadata": {
    "collapsed": true
   },
   "outputs": [],
   "source": [
    "objectTypeDataFile=open(objectTypeDataFilePath)\n",
    "csvReader=csv.reader(objectTypeDataFile,delimiter=',')\n",
    "\n",
    "objectTypes={}\n",
    "for objectEntry in csvReader:\n",
    "    objectTypes[objectEntry[0]]=objectEntry[1]"
   ]
  },
  {
   "cell_type": "code",
   "execution_count": 4,
   "metadata": {},
   "outputs": [
    {
     "name": "stdout",
     "output_type": "stream",
     "text": [
      "New output folder testing created\n",
      "New output folder PN created\n",
      "New output folder Radio-Galaxy (Lobe) created\n",
      "New output folder IR-Quiet created\n",
      "New output folder UCHII created\n",
      "New output folder HII-Region created\n",
      "New output folder Radio-Star created\n",
      "New output folder Radio-Galaxy (Central Source) created\n",
      "Currently 372 files for training have been processed and 628 files for testing have been processed\n",
      "New output folder Other created\n",
      "Currently 732 files for training have been processed and 1268 files for testing have been processed\n",
      "New output folder Galaxy created\n",
      "Currently 1404 files for training have been processed and 1596 files for testing have been processed\n",
      "Currently 1872 files for training have been processed and 2128 files for testing have been processed\n",
      "Currently 2408 files for training have been processed and 2592 files for testing have been processed\n",
      "New output folder Dark HII-Region created\n",
      "New output folder Diffuse HII-Region created\n",
      "Currently 2964 files for training have been processed and 3036 files for testing have been processed\n",
      "New output folder SNR created\n",
      "Currently 3444 files for training have been processed and 3556 files for testing have been processed\n",
      "Currently 3912 files for training have been processed and 4088 files for testing have been processed\n",
      "Currently 4336 files for training have been processed and 4664 files for testing have been processed\n",
      "Currently 4640 files for training have been processed and 5360 files for testing have been processed\n",
      "Currently 4952 files for training have been processed and 6048 files for testing have been processed\n",
      "Currently 5268 files for training have been processed and 6732 files for testing have been processed\n",
      "Currently 5664 files for training have been processed and 7336 files for testing have been processed\n",
      "Currently 6020 files for training have been processed and 7980 files for testing have been processed\n",
      "Currently 6484 files for training have been processed and 8516 files for testing have been processed\n",
      "Currently 6912 files for training have been processed and 9088 files for testing have been processed\n",
      "Currently 7260 files for training have been processed and 9740 files for testing have been processed\n",
      "Currently 7840 files for training have been processed and 10160 files for testing have been processed\n",
      "Currently 8476 files for training have been processed and 10524 files for testing have been processed\n",
      "Currently 9068 files for training have been processed and 10932 files for testing have been processed\n",
      "Currently 9636 files for training have been processed and 11364 files for testing have been processed\n",
      "Currently 10232 files for training have been processed and 11768 files for testing have been processed\n",
      "There are 10548 files for training processed, and 12128 files for testing processed\n"
     ]
    }
   ],
   "source": [
    "testingFileCount=0\n",
    "trainingFileCount=0\n",
    "\n",
    "\n",
    "for fileName in os.listdir(originalFitsPath):\n",
    "    objectName=fileName[:len(fileName)-fitsSuffixLength]\n",
    "    \n",
    "    folderToCopyTo=\"\"\n",
    "    finalFolderToCopyTo=\"\"\n",
    "    \n",
    "    if (objectName in objectTypes):\n",
    "        trainingFileCount+=1\n",
    "        finalFolderToCopyTo=objectTypes[objectName]\n",
    "    else:\n",
    "        testingFileCount+=1\n",
    "        finalFolderToCopyTo=\"testing\"\n",
    "    \n",
    "    folderToCopyTo=newFitsPath+\"/\"+finalFolderToCopyTo\n",
    "    \n",
    "    if os.path.exists(folderToCopyTo)==False:\n",
    "        os.mkdir(folderToCopyTo)\n",
    "        print(\"New output folder \"+finalFolderToCopyTo+\" created\")\n",
    "    shutil.copy(originalFitsPath+\"/\"+fileName,folderToCopyTo)     \n",
    "    \n",
    "    objectTypeDataFile.seek(0)\n",
    "    \n",
    "print(\"There are \"+str(trainingFileCount)+\" files for training processed, and \"+str(testingFileCount)+\" files for testing processed\")"
   ]
  }
 ],
 "metadata": {
  "kernelspec": {
   "display_name": "Python 3",
   "language": "python",
   "name": "python3"
  },
  "language_info": {
   "codemirror_mode": {
    "name": "ipython",
    "version": 3
   },
   "file_extension": ".py",
   "mimetype": "text/x-python",
   "name": "python",
   "nbconvert_exporter": "python",
   "pygments_lexer": "ipython3",
   "version": "3.6.4"
  }
 },
 "nbformat": 4,
 "nbformat_minor": 2
}

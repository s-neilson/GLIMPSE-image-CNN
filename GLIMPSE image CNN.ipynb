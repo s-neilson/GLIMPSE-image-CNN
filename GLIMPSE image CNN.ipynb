{
 "cells": [
  {
   "cell_type": "code",
   "execution_count": 1,
   "metadata": {},
   "outputs": [
    {
     "name": "stderr",
     "output_type": "stream",
     "text": [
      "C:\\Users\\User\\Anaconda3\\lib\\site-packages\\h5py\\__init__.py:34: FutureWarning: Conversion of the second argument of issubdtype from `float` to `np.floating` is deprecated. In future, it will be treated as `np.float64 == np.dtype(float).type`.\n",
      "  from ._conv import register_converters as _register_converters\n",
      "Using TensorFlow backend.\n"
     ]
    }
   ],
   "source": [
    "import os\n",
    "import copy\n",
    "import numpy as np\n",
    "import random\n",
    "\n",
    "import matplotlib.pyplot as plt\n",
    "from matplotlib.colors import LogNorm\n",
    "\n",
    "from astropy.io import fits\n",
    "from astropy.visualization import MinMaxInterval\n",
    "from astropy.visualization import make_lupton_rgb #Uses a technique from https://arxiv.org/pdf/astro-ph/0312483.pdf \n",
    "#that allows RGB images to be created showing good detail while preventing loss of colour.\n",
    "\n",
    "import keras.preprocessing.image\n",
    "from keras.models import Sequential\n",
    "from keras.utils import multi_gpu_model\n",
    "from keras.layers.convolutional import Conv2D\n",
    "from keras.layers.convolutional import MaxPooling2D\n",
    "from keras.layers.core import Activation\n",
    "from keras.layers.core import Dense\n",
    "from keras.layers.core import Flatten\n",
    "from keras.utils import to_categorical\n",
    "from keras.layers.core import Dropout\n",
    "from keras.layers.core import Reshape\n",
    "import keras.optimizers"
   ]
  },
  {
   "cell_type": "code",
   "execution_count": 2,
   "metadata": {
    "collapsed": true
   },
   "outputs": [],
   "source": [
    "mainFitsFolder=os.getcwd()+\"/CORNISH_FITS_I_SORTED\"\n",
    "\n",
    "#trainingObjectLabels=[\"Dark HII-Region\",\"Diffuse HII-Region\",\"Galaxy\",\"HII-Region\",\"IR-Quiet\"\n",
    "                      #,\"Other\",\"PN\",\"Radio-Galaxy (Central Source)\",\"Radio-Galaxy (Lobe)\"\n",
    "                      #,\"Radio-Star\",\"SNR\",\"UCHII\"]\n",
    "\n",
    "\n",
    "#A map of object folder names to their object type\n",
    "trainingObjectFolderLabelMap={\"Dark HII-Region\":\"HII Region\",\"Diffuse HII-Region\":\"HII Region\"\n",
    "                              ,\"HII-Region\":\"HII Region\",\"PN\":\"Planetary Nebula\",\n",
    "                              \"Radio-Star\":\"Radio Star\",\"UCHII\":\"HII Region\"}\n",
    "\n",
    "#A list of the possible object labels with no duplicates.\n",
    "trainingObjectLabels=list(set(trainingObjectFolderLabelMap.values()))\n",
    "\n",
    "\n",
    "\n",
    "testingFolder=\"testing\"\n",
    "fitsSuffixLength=8\n",
    "\n",
    "trainingObjectTransformNumber=3 #Number of transformed copies (horizontal flips,\n",
    "#vertical flips and rotation) of each training image to also create\n",
    "\n",
    "imageSize=(302,302) #The size that all images are required to be by the CNN.\n",
    "imageGeneratorBatchSize=32\n",
    "\n",
    "#The minimum amount of black pixels connected into one region for the image to be\n",
    "#designated as an edge image\n",
    "edgeImageMinimumBlackArea=20"
   ]
  },
  {
   "cell_type": "code",
   "execution_count": 3,
   "metadata": {
    "collapsed": true
   },
   "outputs": [],
   "source": [
    "# Returns a list of all of the object names in a folder.\n",
    "def getObjectNames(folder):\n",
    "    objectNames=[]\n",
    "    \n",
    "    for fileName in os.listdir(folder):\n",
    "        currentObjectName=fileName[:len(fileName)-fitsSuffixLength]\n",
    "        \n",
    "        if currentObjectName not in objectNames:\n",
    "            objectNames.append(currentObjectName) #Adds a new name that hasn't previously been added to the list.\n",
    "    \n",
    "    return objectNames   \n",
    "\n",
    "\n",
    "\n",
    "#Gets the four fit file paths for an imaged object, returns them if successfull\n",
    "def getObjectFitsPaths(folder,objectName):\n",
    "    fitsPaths=[\"\",\"\",\"\",\"\"]\n",
    " \n",
    "    #for i in range(4,0,-1):\n",
    "    for i in range(1,5):\n",
    "        currentFitsPath=folder+\"/\"+objectName+\"_I\"+str(i)+\".fits\"\n",
    "\n",
    "        if os.path.isfile(currentFitsPath):\n",
    "            fitsPaths[4-i]=currentFitsPath # Uses 4-i to make sure they are in order from longest to shortest wavelength.\n",
    "        else:\n",
    "            fitsPaths=[]\n",
    "            break\n",
    "       \n",
    "    return fitsPaths"
   ]
  },
  {
   "cell_type": "code",
   "execution_count": 4,
   "metadata": {
    "collapsed": true
   },
   "outputs": [],
   "source": [
    "class ImagedObject:\n",
    "    fitsPath=[\"\",\"\",\"\",\"\"]\n",
    "    objectName=\"\"\n",
    "    objectType=\"Other\" #Default type is \"Other\".\n",
    "    transformImage=False #Whether the image is to be randomly transformed when generated.\n",
    "    imageData=None\n",
    "                \n",
    "    def __init__(self,fitsPath,objectName,objectType,transformImage):\n",
    "        self.fitsPath=copy.deepcopy(fitsPath)\n",
    "        self.objectName=objectName\n",
    "        self.objectType=objectType\n",
    "        self.transformImage=transformImage \n",
    "        self.createImageData()\n",
    "        \n",
    "    def getImageData(self):      \n",
    "        imageScaler=MinMaxInterval()      \n",
    "        scaledImage=imageScaler(self.imageData) #The image is offsetted and scaled to the range 0 to 1.\n",
    "        \n",
    "        if self.transformImage:\n",
    "            averageFilterValues=[np.average(scaledImage[:,:,0]),np.average(scaledImage[:,:,1]),np.average(scaledImage[:,:,2]),np.average(scaledImage[:,:,3])]\n",
    "            imageBackground=np.zeros(shape=self.imageData.shape)\n",
    "            \n",
    "            for i in range(0,4): #The background values are given their correct values based on the filter layer.\n",
    "                imageBackground[:,:,i]=np.full(self.imageData.shape[:2],averageFilterValues[i])\n",
    "                \n",
    "            imageBackgroundN=np.array(imageBackground)\n",
    "            \n",
    "            #The image has the background subtracted from it.\n",
    "            scaledImage=np.subtract(scaledImage,imageBackgroundN)\n",
    "    \n",
    "            if random.getrandbits(1): #Vertical flip\n",
    "                scaledImage=keras.preprocessing.image.flip_axis(scaledImage,0)\n",
    "                \n",
    "            if random.getrandbits(1): #Horizontal flip\n",
    "                scaledImage=keras.preprocessing.image.flip_axis(scaledImage,1)\n",
    "            \n",
    "            scaledImage=keras.preprocessing.image.random_shift(scaledImage,0.2,0.2,row_axis=0,col_axis=1,channel_axis=2,fill_mode='constant')\n",
    "            scaledImage=keras.preprocessing.image.random_rotation(scaledImage,360,row_axis=0,col_axis=1,channel_axis=2,fill_mode='constant')\n",
    "            scaledImage=keras.preprocessing.image.random_zoom(scaledImage,(0.8,1.2),row_axis=0,col_axis=1,channel_axis=2,fill_mode='constant')  \n",
    "            \n",
    "            #The transformed image is added to the background; all parts on the image filled with 0 during\n",
    "            #the transformation are now the background.\n",
    "            scaledImage=np.add(scaledImage,imageBackgroundN) \n",
    "            \n",
    "        return scaledImage   \n",
    "    \n",
    "    \n",
    "    def createImageData(self):\n",
    "        fitsFiles=[None,None,None,None]\n",
    "        fitsFiles[0]=fits.open(self.fitsPath[0])\n",
    "        fitsFiles[1]=fits.open(self.fitsPath[1])\n",
    "        fitsFiles[2]=fits.open(self.fitsPath[2])\n",
    "        fitsFiles[3]=fits.open(self.fitsPath[3])\n",
    "            \n",
    "        singleImageDimensions=fitsFiles[0][0].shape   \n",
    "        imageDimensions=singleImageDimensions+(4,)\n",
    "        self.imageData=np.empty(shape=imageDimensions,dtype=np.float32) #Holds all of the image data from all four filters in one list.\n",
    "        \n",
    "        for i in range(0,4):\n",
    "            currentFits=fitsFiles[i]\n",
    "            self.imageData[:,:,i]=currentFits[0].data\n",
    "    \n",
    "    def imageDataHasCorrectDimensions(self,requiredImageDimensions):\n",
    "        for i in range(0,4):\n",
    "            currentFitsFile=fits.open(self.fitsPath[0])\n",
    "            \n",
    "            if not (currentFitsFile[0].data.shape == requiredImageDimensions):\n",
    "                return False       \n",
    "        return True  \n",
    "    \n",
    "    \n",
    "    #Detects if the image has large black sections coming in from the edges; if it does\n",
    "    #the image is likely from the edge of the survey and should not be used.\n",
    "    def imageIsLikelyFromEdge(self):       \n",
    "        edgePixels=self.getEdgePixelList()\n",
    "        traversedPixels=np.empty(shape=self.imageData.shape,dtype=np.bool_)\n",
    "\n",
    "        for i in range(0,4):\n",
    "            for j in edgePixels:\n",
    "                    traversedPixels.fill(False)\n",
    "                    contiguousPixelCount=0\n",
    "                    if self.explorePixel(traversedPixels,j,i,contiguousPixelCount)==True:\n",
    "                        return True\n",
    "      \n",
    "        return False\n",
    "                    \n",
    "                    \n",
    "            \n",
    "        \n",
    "    def getEdgePixelList(self):\n",
    "        topPixels=()\n",
    "        bottomPixels=()\n",
    "        leftPixels=()\n",
    "        rightPixels=()\n",
    "        \n",
    "        for i in range(0,self.imageData.shape[0]):\n",
    "            topPixels+=((i,0),)\n",
    "            bottomPixels+=((i,self.imageData.shape[0]-1),)\n",
    "            \n",
    "        for i in range(0,self.imageData.shape[1]):\n",
    "            leftPixels+=((0,i),)\n",
    "            rightPixels+=((self.imageData.shape[1]-1,i),)\n",
    "\n",
    "\n",
    "        #The set is used to remove any duplicates from the corners of the image.\n",
    "        edgePixelSet=set(topPixels+bottomPixels+leftPixels+rightPixels)\n",
    "        return list(edgePixelSet)\n",
    "    \n",
    "    '''Uses the flood fill algorithm (from https://en.wikipedia.org/wiki/Flood_fill, often used in art\n",
    "    programs to change the colour of an area) to recursively count the amount of contiguous black pixels'''\n",
    "    def explorePixel(self,traversedPixels,location,filterLayer,contiguousPixelCount):\n",
    "        try:\n",
    "            if traversedPixels[location+(filterLayer,)]==True:\n",
    "                return False #This pixel has already been traversed.\n",
    "            else:\n",
    "                traversedPixels[location+(filterLayer,)]=True\n",
    "\n",
    "        except IndexError:\n",
    "            return False #It is trying to explore outside the boundaries of the image.\n",
    "            \n",
    "        #There are enough black pixels for the image to be considered an image with an edge.\n",
    "        if contiguousPixelCount>=edgeImageMinimumBlackArea:    \n",
    "            return True #This will propogate back to the imageIsLikelyFromEdge function\n",
    "        \n",
    "        if self.imageData[location+(filterLayer,)]==0.0: #The pixel is black\n",
    "            contiguousPixelCount+=1\n",
    "            \n",
    "            upPixel=(location[0],location[1]+1)\n",
    "            downPixel=(location[0],location[1]-1)\n",
    "            leftPixel=(location[0]-1,location[1])\n",
    "            rightPixel=(location[0]+1,location[1])   \n",
    "        \n",
    "            #Recursively explores neighbouring pixels and returns if any of thse pixels detect\n",
    "            #the image to be an edge image \n",
    "            return self.explorePixel(traversedPixels,upPixel,filterLayer,contiguousPixelCount) or self.explorePixel(traversedPixels,downPixel,filterLayer,contiguousPixelCount) or self.explorePixel(traversedPixels,leftPixel,filterLayer,contiguousPixelCount) or self.explorePixel(traversedPixels,rightPixel,filterLayer,contiguousPixelCount)\n",
    "        \n",
    "        return False"
   ]
  },
  {
   "cell_type": "code",
   "execution_count": 5,
   "metadata": {
    "collapsed": true
   },
   "outputs": [],
   "source": [
    "#Adds a single ImagedObject and its transformations to a object list and returns if this could be done\n",
    "def addImagedObjectToList(fitsPaths,objectName,objectType,imagedObjectList,numberOfTransformations):\n",
    "    newImagedObject=ImagedObject(fitsPaths,objectName,objectType,False) \n",
    "    \n",
    "    if not newImagedObject.imageDataHasCorrectDimensions(imageSize):\n",
    "        print(objectName+\" has incorrect image dimensions\")\n",
    "        return False\n",
    "    \n",
    "    if newImagedObject.imageIsLikelyFromEdge():\n",
    "        print(objectName+\" is likely an image from the edge of the survey\")\n",
    "        return False\n",
    "    \n",
    "\n",
    "    imagedObjectList.append(newImagedObject)\n",
    "            \n",
    "    for i in range(0,numberOfTransformations):\n",
    "        transformedImageObject=ImagedObject(fitsPaths,objectName,objectType,True)\n",
    "        imagedObjectList.append(transformedImageObject)\n",
    "        \n",
    "    return True\n",
    "\n",
    "\n",
    "\n",
    "#Creates ImagedObjects from the contents from a particular folder.\n",
    "def addImagedObjectsFromFolder(folder,imagedObjectType,imagedObjectList,numberOfTransformations):\n",
    "    successfulProcessedObjects=0\n",
    "    currentObjectNames=getObjectNames(folder)\n",
    "\n",
    "    successfulyProcessedObject=0\n",
    "    for currentObjectName in currentObjectNames:\n",
    "        currentObjectFitsPaths=getObjectFitsPaths(folder,currentObjectName)\n",
    "\n",
    "        if len(currentObjectFitsPaths)!=0:\n",
    "            if addImagedObjectToList(currentObjectFitsPaths,currentObjectName,imagedObjectType,imagedObjectList,numberOfTransformations):       \n",
    "                successfulProcessedObjects+=1\n",
    "        else:\n",
    "            print(\"Imaged object \"+currentObjectName+\" does not have four fits files accociated with it\")\n",
    "        \n",
    "    print(str(successfulProcessedObjects)+\" imaged objects of type \"+imagedObjectType+\" were correctly processed\"+\"\\n\")\n",
    "    "
   ]
  },
  {
   "cell_type": "code",
   "execution_count": 6,
   "metadata": {},
   "outputs": [
    {
     "name": "stdout",
     "output_type": "stream",
     "text": [
      "Creating training objects of object type HII Region from folder Dark HII-Region\n",
      "6 imaged objects of type HII Region were correctly processed\n",
      "\n",
      "Creating training objects of object type HII Region from folder Diffuse HII-Region\n",
      "G026.0907-00.0575 is likely an image from the edge of the survey\n",
      "5 imaged objects of type HII Region were correctly processed\n",
      "\n",
      "Creating training objects of object type HII Region from folder HII-Region\n",
      "G049.4867-00.3800 is likely an image from the edge of the survey\n",
      "G052.0991+01.0432 is likely an image from the edge of the survey\n",
      "35 imaged objects of type HII Region were correctly processed\n",
      "\n",
      "Creating training objects of object type Planetary Nebula from folder PN\n",
      "G011.3266-00.3718 is likely an image from the edge of the survey\n",
      "G011.4581+01.0736 is likely an image from the edge of the survey\n",
      "G017.4147+00.3791 is likely an image from the edge of the survey\n",
      "G024.0943-01.0992 is likely an image from the edge of the survey\n",
      "G025.8466+01.1718 has incorrect image dimensions\n",
      "G039.5911-00.3785 is likely an image from the edge of the survey\n",
      "G050.0405+01.0961 is likely an image from the edge of the survey\n",
      "G052.1498-00.3758 is likely an image from the edge of the survey\n",
      "162 imaged objects of type Planetary Nebula were correctly processed\n",
      "\n",
      "Creating training objects of object type Radio Star from folder Radio-Star\n",
      "G011.4697-01.0568 is likely an image from the edge of the survey\n",
      "G031.3917+01.0265 is likely an image from the edge of the survey\n",
      "G033.1473+01.0434 is likely an image from the edge of the survey\n",
      "G035.9464+00.3787 is likely an image from the edge of the survey\n",
      "G046.2584-01.0663 is likely an image from the edge of the survey\n",
      "G051.2984-01.0802 is likely an image from the edge of the survey\n",
      "G053.5879+01.0393 is likely an image from the edge of the survey\n",
      "G054.0630-01.0334 is likely an image from the edge of the survey\n",
      "G054.3980-00.3748 is likely an image from the edge of the survey\n",
      "G059.0901-01.0570 is likely an image from the edge of the survey\n",
      "G059.6786-01.0884 is likely an image from the edge of the survey\n",
      "119 imaged objects of type Radio Star were correctly processed\n",
      "\n",
      "Creating training objects of object type HII Region from folder UCHII\n",
      "G010.6223-00.3788 is likely an image from the edge of the survey\n",
      "G049.4891-00.3763 is likely an image from the edge of the survey\n",
      "237 imaged objects of type HII Region were correctly processed\n",
      "\n"
     ]
    }
   ],
   "source": [
    "#Adds the training and testing objects from their respective folders.\n",
    "trainingObjects=[]\n",
    "testingObjects=[]\n",
    "\n",
    "for currentFolder in list(trainingObjectFolderLabelMap.keys()):\n",
    "    currentObjectType=trainingObjectFolderLabelMap[currentFolder]\n",
    "    print(\"Creating training objects of object type \"+currentObjectType+\" from folder \"+currentFolder)\n",
    "    addImagedObjectsFromFolder(mainFitsFolder+\"/\"+currentFolder,currentObjectType,trainingObjects,trainingObjectTransformNumber)\n",
    "    \n",
    "\n",
    "#print(\"Creating testing objects\")\n",
    "#addImagedObjectsFromFolder(mainFitsFolder+\"/\"+testingFolder,testingFolder,testingObjects,0)"
   ]
  },
  {
   "cell_type": "code",
   "execution_count": 7,
   "metadata": {
    "collapsed": true
   },
   "outputs": [],
   "source": [
    "#A generator for the imaged objects used so not all images need to be loaded in memory.       \n",
    "def imagedObjectGenerator(objectList,labelList,batchSize):\n",
    "    currentBatchIndex=0\n",
    "    currentImageData=[]\n",
    "    currentImageLabels=[]\n",
    "    \n",
    "    objectListLength=len(objectList)\n",
    "    currentObjectIndex=0\n",
    "    while True: #The generator will continuesly generate imaged objects.\n",
    "        currentImageData.append(objectList[currentObjectIndex].getImageData())\n",
    "        currentImageLabels.append(labelList.index(objectList[currentObjectIndex].objectType))\n",
    "        currentBatchIndex+=1\n",
    "        \n",
    "        if currentBatchIndex == batchSize:\n",
    "            outputImageData=np.array(currentImageData)\n",
    "            outputLabels=to_categorical(currentImageLabels,len(labelList))\n",
    "            yield (outputImageData,outputLabels)\n",
    "            currentBatchIndex=0\n",
    "            currentImageData=[]\n",
    "            currentImageLabels=[]\n",
    "            \n",
    "        currentObjectIndex+=1\n",
    "        if currentObjectIndex >= objectListLength:\n",
    "            currentObjectIndex=0 #Index loops back to the beginning of objectList"
   ]
  },
  {
   "cell_type": "code",
   "execution_count": 8,
   "metadata": {
    "collapsed": true
   },
   "outputs": [],
   "source": [
    "model=Sequential()\n",
    "\n",
    "model.add(Conv2D(32,(10,10),padding=\"same\",activation=\"relu\",input_shape=(302,302,4)))\n",
    "model.add(Conv2D(32,(10,10),padding=\"same\",activation=\"relu\"))\n",
    "model.add(Conv2D(32,(10,10),padding=\"same\",activation=\"relu\"))\n",
    "model.add(MaxPooling2D(pool_size=(2,2)))\n",
    "model.add(Dropout(0.2))\n",
    "\n",
    "model.add(Conv2D(64,(5,5),padding=\"same\",activation=\"relu\"))\n",
    "model.add(Conv2D(64,(5,5),padding=\"same\",activation=\"relu\"))\n",
    "model.add(Conv2D(64,(5,5),padding=\"same\",activation=\"relu\"))\n",
    "model.add(MaxPooling2D(pool_size=(2,2)))\n",
    "model.add(Dropout(0.2))\n",
    "\n",
    "model.add(Conv2D(128,(3,3),padding=\"same\",activation=\"relu\"))\n",
    "model.add(Conv2D(128,(3,3),padding=\"same\",activation=\"relu\"))\n",
    "model.add(MaxPooling2D(pool_size=(2,2)))\n",
    "model.add(Dropout(0.2))\n",
    "\n",
    "model.add(Flatten())\n",
    "model.add(Dense(256,activation='relu'))\n",
    "model.add(Dropout(0.35))\n",
    "model.add(Dense(64,activation='relu')) \n",
    "model.add(Dropout(0.2))\n",
    "model.add(Dense(len(trainingObjectLabels),activation=\"softmax\"))\n",
    "\n",
    "np.random.shuffle(trainingObjects)\n",
    "trainingImages=trainingObjects[::2]\n",
    "testingImages=trainingObjects[1::2]\n",
    "\n",
    "trainingGenerator=imagedObjectGenerator(trainingImages,trainingObjectLabels,imageGeneratorBatchSize)\n",
    "testingGenerator=imagedObjectGenerator(testingImages,trainingObjectLabels,imageGeneratorBatchSize)\n",
    "stepsPerEpoch=int(len(trainingImages)/imageGeneratorBatchSize)\n",
    "validationSteps=int(len(testingImages)/imageGeneratorBatchSize)\n",
    "\n",
    "#multiGpuModel=multi_gpu_model(model,gpus=2)\n",
    "model.compile(optimizer=keras.optimizers.Adadelta(),loss='categorical_crossentropy',metrics=['accuracy'])"
   ]
  },
  {
   "cell_type": "code",
   "execution_count": 9,
   "metadata": {},
   "outputs": [
    {
     "name": "stdout",
     "output_type": "stream",
     "text": [
      "Epoch 1/75\n"
     ]
    },
    {
     "ename": "KeyboardInterrupt",
     "evalue": "",
     "output_type": "error",
     "traceback": [
      "\u001b[1;31m---------------------------------------------------------------------------\u001b[0m",
      "\u001b[1;31mKeyboardInterrupt\u001b[0m                         Traceback (most recent call last)",
      "\u001b[1;32m<ipython-input-9-9141d372de80>\u001b[0m in \u001b[0;36m<module>\u001b[1;34m()\u001b[0m\n\u001b[1;32m----> 1\u001b[1;33m \u001b[0mmodelFitHistory\u001b[0m\u001b[1;33m=\u001b[0m\u001b[0mmodel\u001b[0m\u001b[1;33m.\u001b[0m\u001b[0mfit_generator\u001b[0m\u001b[1;33m(\u001b[0m\u001b[0mtrainingGenerator\u001b[0m\u001b[1;33m,\u001b[0m\u001b[0msteps_per_epoch\u001b[0m\u001b[1;33m=\u001b[0m\u001b[0mstepsPerEpoch\u001b[0m\u001b[1;33m,\u001b[0m\u001b[0mvalidation_data\u001b[0m\u001b[1;33m=\u001b[0m\u001b[0mtestingGenerator\u001b[0m\u001b[1;33m,\u001b[0m\u001b[0mvalidation_steps\u001b[0m\u001b[1;33m=\u001b[0m\u001b[0mvalidationSteps\u001b[0m\u001b[1;33m,\u001b[0m\u001b[0mepochs\u001b[0m\u001b[1;33m=\u001b[0m\u001b[1;36m75\u001b[0m\u001b[1;33m,\u001b[0m\u001b[0mverbose\u001b[0m\u001b[1;33m=\u001b[0m\u001b[1;36m1\u001b[0m\u001b[1;33m)\u001b[0m\u001b[1;33m\u001b[0m\u001b[0m\n\u001b[0m",
      "\u001b[1;32m~\\Anaconda3\\lib\\site-packages\\keras\\legacy\\interfaces.py\u001b[0m in \u001b[0;36mwrapper\u001b[1;34m(*args, **kwargs)\u001b[0m\n\u001b[0;32m     89\u001b[0m                 warnings.warn('Update your `' + object_name +\n\u001b[0;32m     90\u001b[0m                               '` call to the Keras 2 API: ' + signature, stacklevel=2)\n\u001b[1;32m---> 91\u001b[1;33m             \u001b[1;32mreturn\u001b[0m \u001b[0mfunc\u001b[0m\u001b[1;33m(\u001b[0m\u001b[1;33m*\u001b[0m\u001b[0margs\u001b[0m\u001b[1;33m,\u001b[0m \u001b[1;33m**\u001b[0m\u001b[0mkwargs\u001b[0m\u001b[1;33m)\u001b[0m\u001b[1;33m\u001b[0m\u001b[0m\n\u001b[0m\u001b[0;32m     92\u001b[0m         \u001b[0mwrapper\u001b[0m\u001b[1;33m.\u001b[0m\u001b[0m_original_function\u001b[0m \u001b[1;33m=\u001b[0m \u001b[0mfunc\u001b[0m\u001b[1;33m\u001b[0m\u001b[0m\n\u001b[0;32m     93\u001b[0m         \u001b[1;32mreturn\u001b[0m \u001b[0mwrapper\u001b[0m\u001b[1;33m\u001b[0m\u001b[0m\n",
      "\u001b[1;32m~\\Anaconda3\\lib\\site-packages\\keras\\models.py\u001b[0m in \u001b[0;36mfit_generator\u001b[1;34m(self, generator, steps_per_epoch, epochs, verbose, callbacks, validation_data, validation_steps, class_weight, max_queue_size, workers, use_multiprocessing, shuffle, initial_epoch)\u001b[0m\n\u001b[0;32m   1254\u001b[0m                                         \u001b[0muse_multiprocessing\u001b[0m\u001b[1;33m=\u001b[0m\u001b[0muse_multiprocessing\u001b[0m\u001b[1;33m,\u001b[0m\u001b[1;33m\u001b[0m\u001b[0m\n\u001b[0;32m   1255\u001b[0m                                         \u001b[0mshuffle\u001b[0m\u001b[1;33m=\u001b[0m\u001b[0mshuffle\u001b[0m\u001b[1;33m,\u001b[0m\u001b[1;33m\u001b[0m\u001b[0m\n\u001b[1;32m-> 1256\u001b[1;33m                                         initial_epoch=initial_epoch)\n\u001b[0m\u001b[0;32m   1257\u001b[0m \u001b[1;33m\u001b[0m\u001b[0m\n\u001b[0;32m   1258\u001b[0m     \u001b[1;33m@\u001b[0m\u001b[0minterfaces\u001b[0m\u001b[1;33m.\u001b[0m\u001b[0mlegacy_generator_methods_support\u001b[0m\u001b[1;33m\u001b[0m\u001b[0m\n",
      "\u001b[1;32m~\\Anaconda3\\lib\\site-packages\\keras\\legacy\\interfaces.py\u001b[0m in \u001b[0;36mwrapper\u001b[1;34m(*args, **kwargs)\u001b[0m\n\u001b[0;32m     89\u001b[0m                 warnings.warn('Update your `' + object_name +\n\u001b[0;32m     90\u001b[0m                               '` call to the Keras 2 API: ' + signature, stacklevel=2)\n\u001b[1;32m---> 91\u001b[1;33m             \u001b[1;32mreturn\u001b[0m \u001b[0mfunc\u001b[0m\u001b[1;33m(\u001b[0m\u001b[1;33m*\u001b[0m\u001b[0margs\u001b[0m\u001b[1;33m,\u001b[0m \u001b[1;33m**\u001b[0m\u001b[0mkwargs\u001b[0m\u001b[1;33m)\u001b[0m\u001b[1;33m\u001b[0m\u001b[0m\n\u001b[0m\u001b[0;32m     92\u001b[0m         \u001b[0mwrapper\u001b[0m\u001b[1;33m.\u001b[0m\u001b[0m_original_function\u001b[0m \u001b[1;33m=\u001b[0m \u001b[0mfunc\u001b[0m\u001b[1;33m\u001b[0m\u001b[0m\n\u001b[0;32m     93\u001b[0m         \u001b[1;32mreturn\u001b[0m \u001b[0mwrapper\u001b[0m\u001b[1;33m\u001b[0m\u001b[0m\n",
      "\u001b[1;32m~\\Anaconda3\\lib\\site-packages\\keras\\engine\\training.py\u001b[0m in \u001b[0;36mfit_generator\u001b[1;34m(self, generator, steps_per_epoch, epochs, verbose, callbacks, validation_data, validation_steps, class_weight, max_queue_size, workers, use_multiprocessing, shuffle, initial_epoch)\u001b[0m\n\u001b[0;32m   2175\u001b[0m                     outs = self.train_on_batch(x, y,\n\u001b[0;32m   2176\u001b[0m                                                \u001b[0msample_weight\u001b[0m\u001b[1;33m=\u001b[0m\u001b[0msample_weight\u001b[0m\u001b[1;33m,\u001b[0m\u001b[1;33m\u001b[0m\u001b[0m\n\u001b[1;32m-> 2177\u001b[1;33m                                                class_weight=class_weight)\n\u001b[0m\u001b[0;32m   2178\u001b[0m \u001b[1;33m\u001b[0m\u001b[0m\n\u001b[0;32m   2179\u001b[0m                     \u001b[1;32mif\u001b[0m \u001b[1;32mnot\u001b[0m \u001b[0misinstance\u001b[0m\u001b[1;33m(\u001b[0m\u001b[0mouts\u001b[0m\u001b[1;33m,\u001b[0m \u001b[0mlist\u001b[0m\u001b[1;33m)\u001b[0m\u001b[1;33m:\u001b[0m\u001b[1;33m\u001b[0m\u001b[0m\n",
      "\u001b[1;32m~\\Anaconda3\\lib\\site-packages\\keras\\engine\\training.py\u001b[0m in \u001b[0;36mtrain_on_batch\u001b[1;34m(self, x, y, sample_weight, class_weight)\u001b[0m\n\u001b[0;32m   1847\u001b[0m             \u001b[0mins\u001b[0m \u001b[1;33m=\u001b[0m \u001b[0mx\u001b[0m \u001b[1;33m+\u001b[0m \u001b[0my\u001b[0m \u001b[1;33m+\u001b[0m \u001b[0msample_weights\u001b[0m\u001b[1;33m\u001b[0m\u001b[0m\n\u001b[0;32m   1848\u001b[0m         \u001b[0mself\u001b[0m\u001b[1;33m.\u001b[0m\u001b[0m_make_train_function\u001b[0m\u001b[1;33m(\u001b[0m\u001b[1;33m)\u001b[0m\u001b[1;33m\u001b[0m\u001b[0m\n\u001b[1;32m-> 1849\u001b[1;33m         \u001b[0moutputs\u001b[0m \u001b[1;33m=\u001b[0m \u001b[0mself\u001b[0m\u001b[1;33m.\u001b[0m\u001b[0mtrain_function\u001b[0m\u001b[1;33m(\u001b[0m\u001b[0mins\u001b[0m\u001b[1;33m)\u001b[0m\u001b[1;33m\u001b[0m\u001b[0m\n\u001b[0m\u001b[0;32m   1850\u001b[0m         \u001b[1;32mif\u001b[0m \u001b[0mlen\u001b[0m\u001b[1;33m(\u001b[0m\u001b[0moutputs\u001b[0m\u001b[1;33m)\u001b[0m \u001b[1;33m==\u001b[0m \u001b[1;36m1\u001b[0m\u001b[1;33m:\u001b[0m\u001b[1;33m\u001b[0m\u001b[0m\n\u001b[0;32m   1851\u001b[0m             \u001b[1;32mreturn\u001b[0m \u001b[0moutputs\u001b[0m\u001b[1;33m[\u001b[0m\u001b[1;36m0\u001b[0m\u001b[1;33m]\u001b[0m\u001b[1;33m\u001b[0m\u001b[0m\n",
      "\u001b[1;32m~\\Anaconda3\\lib\\site-packages\\keras\\backend\\tensorflow_backend.py\u001b[0m in \u001b[0;36m__call__\u001b[1;34m(self, inputs)\u001b[0m\n\u001b[0;32m   2473\u001b[0m         \u001b[0msession\u001b[0m \u001b[1;33m=\u001b[0m \u001b[0mget_session\u001b[0m\u001b[1;33m(\u001b[0m\u001b[1;33m)\u001b[0m\u001b[1;33m\u001b[0m\u001b[0m\n\u001b[0;32m   2474\u001b[0m         updated = session.run(fetches=fetches, feed_dict=feed_dict,\n\u001b[1;32m-> 2475\u001b[1;33m                               **self.session_kwargs)\n\u001b[0m\u001b[0;32m   2476\u001b[0m         \u001b[1;32mreturn\u001b[0m \u001b[0mupdated\u001b[0m\u001b[1;33m[\u001b[0m\u001b[1;33m:\u001b[0m\u001b[0mlen\u001b[0m\u001b[1;33m(\u001b[0m\u001b[0mself\u001b[0m\u001b[1;33m.\u001b[0m\u001b[0moutputs\u001b[0m\u001b[1;33m)\u001b[0m\u001b[1;33m]\u001b[0m\u001b[1;33m\u001b[0m\u001b[0m\n\u001b[0;32m   2477\u001b[0m \u001b[1;33m\u001b[0m\u001b[0m\n",
      "\u001b[1;32m~\\Anaconda3\\lib\\site-packages\\tensorflow\\python\\client\\session.py\u001b[0m in \u001b[0;36mrun\u001b[1;34m(self, fetches, feed_dict, options, run_metadata)\u001b[0m\n\u001b[0;32m    893\u001b[0m     \u001b[1;32mtry\u001b[0m\u001b[1;33m:\u001b[0m\u001b[1;33m\u001b[0m\u001b[0m\n\u001b[0;32m    894\u001b[0m       result = self._run(None, fetches, feed_dict, options_ptr,\n\u001b[1;32m--> 895\u001b[1;33m                          run_metadata_ptr)\n\u001b[0m\u001b[0;32m    896\u001b[0m       \u001b[1;32mif\u001b[0m \u001b[0mrun_metadata\u001b[0m\u001b[1;33m:\u001b[0m\u001b[1;33m\u001b[0m\u001b[0m\n\u001b[0;32m    897\u001b[0m         \u001b[0mproto_data\u001b[0m \u001b[1;33m=\u001b[0m \u001b[0mtf_session\u001b[0m\u001b[1;33m.\u001b[0m\u001b[0mTF_GetBuffer\u001b[0m\u001b[1;33m(\u001b[0m\u001b[0mrun_metadata_ptr\u001b[0m\u001b[1;33m)\u001b[0m\u001b[1;33m\u001b[0m\u001b[0m\n",
      "\u001b[1;32m~\\Anaconda3\\lib\\site-packages\\tensorflow\\python\\client\\session.py\u001b[0m in \u001b[0;36m_run\u001b[1;34m(self, handle, fetches, feed_dict, options, run_metadata)\u001b[0m\n\u001b[0;32m   1126\u001b[0m     \u001b[1;32mif\u001b[0m \u001b[0mfinal_fetches\u001b[0m \u001b[1;32mor\u001b[0m \u001b[0mfinal_targets\u001b[0m \u001b[1;32mor\u001b[0m \u001b[1;33m(\u001b[0m\u001b[0mhandle\u001b[0m \u001b[1;32mand\u001b[0m \u001b[0mfeed_dict_tensor\u001b[0m\u001b[1;33m)\u001b[0m\u001b[1;33m:\u001b[0m\u001b[1;33m\u001b[0m\u001b[0m\n\u001b[0;32m   1127\u001b[0m       results = self._do_run(handle, final_targets, final_fetches,\n\u001b[1;32m-> 1128\u001b[1;33m                              feed_dict_tensor, options, run_metadata)\n\u001b[0m\u001b[0;32m   1129\u001b[0m     \u001b[1;32melse\u001b[0m\u001b[1;33m:\u001b[0m\u001b[1;33m\u001b[0m\u001b[0m\n\u001b[0;32m   1130\u001b[0m       \u001b[0mresults\u001b[0m \u001b[1;33m=\u001b[0m \u001b[1;33m[\u001b[0m\u001b[1;33m]\u001b[0m\u001b[1;33m\u001b[0m\u001b[0m\n",
      "\u001b[1;32m~\\Anaconda3\\lib\\site-packages\\tensorflow\\python\\client\\session.py\u001b[0m in \u001b[0;36m_do_run\u001b[1;34m(self, handle, target_list, fetch_list, feed_dict, options, run_metadata)\u001b[0m\n\u001b[0;32m   1342\u001b[0m     \u001b[1;32mif\u001b[0m \u001b[0mhandle\u001b[0m \u001b[1;32mis\u001b[0m \u001b[1;32mNone\u001b[0m\u001b[1;33m:\u001b[0m\u001b[1;33m\u001b[0m\u001b[0m\n\u001b[0;32m   1343\u001b[0m       return self._do_call(_run_fn, self._session, feeds, fetches, targets,\n\u001b[1;32m-> 1344\u001b[1;33m                            options, run_metadata)\n\u001b[0m\u001b[0;32m   1345\u001b[0m     \u001b[1;32melse\u001b[0m\u001b[1;33m:\u001b[0m\u001b[1;33m\u001b[0m\u001b[0m\n\u001b[0;32m   1346\u001b[0m       \u001b[1;32mreturn\u001b[0m \u001b[0mself\u001b[0m\u001b[1;33m.\u001b[0m\u001b[0m_do_call\u001b[0m\u001b[1;33m(\u001b[0m\u001b[0m_prun_fn\u001b[0m\u001b[1;33m,\u001b[0m \u001b[0mself\u001b[0m\u001b[1;33m.\u001b[0m\u001b[0m_session\u001b[0m\u001b[1;33m,\u001b[0m \u001b[0mhandle\u001b[0m\u001b[1;33m,\u001b[0m \u001b[0mfeeds\u001b[0m\u001b[1;33m,\u001b[0m \u001b[0mfetches\u001b[0m\u001b[1;33m)\u001b[0m\u001b[1;33m\u001b[0m\u001b[0m\n",
      "\u001b[1;32m~\\Anaconda3\\lib\\site-packages\\tensorflow\\python\\client\\session.py\u001b[0m in \u001b[0;36m_do_call\u001b[1;34m(self, fn, *args)\u001b[0m\n\u001b[0;32m   1348\u001b[0m   \u001b[1;32mdef\u001b[0m \u001b[0m_do_call\u001b[0m\u001b[1;33m(\u001b[0m\u001b[0mself\u001b[0m\u001b[1;33m,\u001b[0m \u001b[0mfn\u001b[0m\u001b[1;33m,\u001b[0m \u001b[1;33m*\u001b[0m\u001b[0margs\u001b[0m\u001b[1;33m)\u001b[0m\u001b[1;33m:\u001b[0m\u001b[1;33m\u001b[0m\u001b[0m\n\u001b[0;32m   1349\u001b[0m     \u001b[1;32mtry\u001b[0m\u001b[1;33m:\u001b[0m\u001b[1;33m\u001b[0m\u001b[0m\n\u001b[1;32m-> 1350\u001b[1;33m       \u001b[1;32mreturn\u001b[0m \u001b[0mfn\u001b[0m\u001b[1;33m(\u001b[0m\u001b[1;33m*\u001b[0m\u001b[0margs\u001b[0m\u001b[1;33m)\u001b[0m\u001b[1;33m\u001b[0m\u001b[0m\n\u001b[0m\u001b[0;32m   1351\u001b[0m     \u001b[1;32mexcept\u001b[0m \u001b[0merrors\u001b[0m\u001b[1;33m.\u001b[0m\u001b[0mOpError\u001b[0m \u001b[1;32mas\u001b[0m \u001b[0me\u001b[0m\u001b[1;33m:\u001b[0m\u001b[1;33m\u001b[0m\u001b[0m\n\u001b[0;32m   1352\u001b[0m       \u001b[0mmessage\u001b[0m \u001b[1;33m=\u001b[0m \u001b[0mcompat\u001b[0m\u001b[1;33m.\u001b[0m\u001b[0mas_text\u001b[0m\u001b[1;33m(\u001b[0m\u001b[0me\u001b[0m\u001b[1;33m.\u001b[0m\u001b[0mmessage\u001b[0m\u001b[1;33m)\u001b[0m\u001b[1;33m\u001b[0m\u001b[0m\n",
      "\u001b[1;32m~\\Anaconda3\\lib\\site-packages\\tensorflow\\python\\client\\session.py\u001b[0m in \u001b[0;36m_run_fn\u001b[1;34m(session, feed_dict, fetch_list, target_list, options, run_metadata)\u001b[0m\n\u001b[0;32m   1327\u001b[0m           return tf_session.TF_Run(session, options,\n\u001b[0;32m   1328\u001b[0m                                    \u001b[0mfeed_dict\u001b[0m\u001b[1;33m,\u001b[0m \u001b[0mfetch_list\u001b[0m\u001b[1;33m,\u001b[0m \u001b[0mtarget_list\u001b[0m\u001b[1;33m,\u001b[0m\u001b[1;33m\u001b[0m\u001b[0m\n\u001b[1;32m-> 1329\u001b[1;33m                                    status, run_metadata)\n\u001b[0m\u001b[0;32m   1330\u001b[0m \u001b[1;33m\u001b[0m\u001b[0m\n\u001b[0;32m   1331\u001b[0m     \u001b[1;32mdef\u001b[0m \u001b[0m_prun_fn\u001b[0m\u001b[1;33m(\u001b[0m\u001b[0msession\u001b[0m\u001b[1;33m,\u001b[0m \u001b[0mhandle\u001b[0m\u001b[1;33m,\u001b[0m \u001b[0mfeed_dict\u001b[0m\u001b[1;33m,\u001b[0m \u001b[0mfetch_list\u001b[0m\u001b[1;33m)\u001b[0m\u001b[1;33m:\u001b[0m\u001b[1;33m\u001b[0m\u001b[0m\n",
      "\u001b[1;31mKeyboardInterrupt\u001b[0m: "
     ]
    }
   ],
   "source": [
    "modelFitHistory=model.fit_generator(trainingGenerator,steps_per_epoch=stepsPerEpoch,validation_data=testingGenerator,validation_steps=validationSteps,epochs=75,verbose=1)"
   ]
  },
  {
   "cell_type": "code",
   "execution_count": 13,
   "metadata": {},
   "outputs": [
    {
     "name": "stdout",
     "output_type": "stream",
     "text": [
      "_________________________________________________________________\n",
      "Layer (type)                 Output Shape              Param #   \n",
      "=================================================================\n",
      "conv2d_1 (Conv2D)            (None, 302, 302, 32)      12832     \n",
      "_________________________________________________________________\n",
      "conv2d_2 (Conv2D)            (None, 302, 302, 32)      102432    \n",
      "_________________________________________________________________\n",
      "conv2d_3 (Conv2D)            (None, 302, 302, 32)      102432    \n",
      "_________________________________________________________________\n",
      "max_pooling2d_1 (MaxPooling2 (None, 151, 151, 32)      0         \n",
      "_________________________________________________________________\n",
      "dropout_1 (Dropout)          (None, 151, 151, 32)      0         \n",
      "_________________________________________________________________\n",
      "conv2d_4 (Conv2D)            (None, 151, 151, 64)      51264     \n",
      "_________________________________________________________________\n",
      "conv2d_5 (Conv2D)            (None, 151, 151, 64)      102464    \n",
      "_________________________________________________________________\n",
      "conv2d_6 (Conv2D)            (None, 151, 151, 64)      102464    \n",
      "_________________________________________________________________\n",
      "max_pooling2d_2 (MaxPooling2 (None, 75, 75, 64)        0         \n",
      "_________________________________________________________________\n",
      "dropout_2 (Dropout)          (None, 75, 75, 64)        0         \n",
      "_________________________________________________________________\n",
      "conv2d_7 (Conv2D)            (None, 75, 75, 128)       73856     \n",
      "_________________________________________________________________\n",
      "conv2d_8 (Conv2D)            (None, 75, 75, 128)       147584    \n",
      "_________________________________________________________________\n",
      "max_pooling2d_3 (MaxPooling2 (None, 37, 37, 128)       0         \n",
      "_________________________________________________________________\n",
      "dropout_3 (Dropout)          (None, 37, 37, 128)       0         \n",
      "_________________________________________________________________\n",
      "flatten_1 (Flatten)          (None, 175232)            0         \n",
      "_________________________________________________________________\n",
      "dense_1 (Dense)              (None, 256)               44859648  \n",
      "_________________________________________________________________\n",
      "dropout_4 (Dropout)          (None, 256)               0         \n",
      "_________________________________________________________________\n",
      "dense_2 (Dense)              (None, 64)                16448     \n",
      "_________________________________________________________________\n",
      "dropout_5 (Dropout)          (None, 64)                0         \n",
      "_________________________________________________________________\n",
      "dense_3 (Dense)              (None, 3)                 195       \n",
      "=================================================================\n",
      "Total params: 45,571,619\n",
      "Trainable params: 45,571,619\n",
      "Non-trainable params: 0\n",
      "_________________________________________________________________\n",
      "2256\n"
     ]
    }
   ],
   "source": [
    "model.summary()\n",
    "import sys\n",
    "sys.getsizeof(trainingObjects[0].imageData)\n",
    "print(len(trainingObjects))"
   ]
  },
  {
   "cell_type": "code",
   "execution_count": 13,
   "metadata": {
    "collapsed": true
   },
   "outputs": [],
   "source": [
    "plt.plot(modelFitHistory.history[\"acc\"],label=\"Training accuracy\")\n",
    "plt.plot(modelFitHistory.history[\"val_acc\"],label=\"Validation accuracy\")\n",
    "plt.title(\"Accuracy vs Epoch iteration\")\n",
    "plt.xlabel(\"Epoch iteration\")\n",
    "plt.ylabel(\"Accuracy\")\n",
    "plt.legend(loc=\"best\")\n",
    "#plt.show()\n",
    "plt.savefig(\"graph.png\")"
   ]
  },
  {
   "cell_type": "code",
   "execution_count": 13,
   "metadata": {},
   "outputs": [
    {
     "data": {
      "image/png": "[encoded data removed]",
      "text/plain": [
       "<matplotlib.figure.Figure at 0x1e6dd1b5908>"
      ]
     },
     "metadata": {},
     "output_type": "display_data"
    }
   ],
   "source": [
    "imageIndexToPredict=np.random.randint(0,len(testingImages))\n",
    "imageObjectToPredict=testingImages[imageIndexToPredict]\n",
    "trueImageLabel=imageObjectToPredict.objectType\n",
    "\n",
    "imageListToPredictOn=[]\n",
    "imageDataToPredictOn=imageObjectToPredict.getImageData()\n",
    "imageListToPredictOn.append(imageDataToPredictOn)\n",
    "imageLabelPrediction=model.predict_classes(np.array(imageListToPredictOn))[0]\n",
    "imageLabelPredictionConfidence=np.amax(model.predict(np.array(imageListToPredictOn)))\n",
    "\n",
    "plt.imshow(make_lupton_rgb(imageDataToPredictOn[:,:,0],imageDataToPredictOn[:,:,1],imageDataToPredictOn[:,:,2],stretch=0.2))\n",
    "plt.title(\"True image label is \"+trueImageLabel+\" ,predicted image label is \"+trainingObjectLabels[imageLabelPrediction]+\" with a confidence of \"+str(100*imageLabelPredictionConfidence)+\" %\")\n",
    "plt.show()"
   ]
  },
  {
   "cell_type": "code",
   "execution_count": 21,
   "metadata": {},
   "outputs": [
    {
     "name": "stdout",
     "output_type": "stream",
     "text": [
      "G013.2099-00.1428\n"
     ]
    },
    {
     "data": {
      "image/png": "[encoded data removed]",
      "text/plain": [
       "<matplotlib.figure.Figure at 0x1e84eb5d4a8>"
      ]
     },
     "metadata": {},
     "output_type": "display_data"
    },
    {
     "data": {
      "text/plain": [
       "'\\nfor i in range(2448*(trainingObjectTransformNumber+1),2453*(trainingObjectTransformNumber+1)):\\n    iop=trainingObjects[i].getImageData()\\n    plt.imshow(make_lupton_rgb(iop[:,:,0],iop[:,:,1],iop[:,:,2],stretch=0.2))\\n    plt.show()    \\n'"
      ]
     },
     "execution_count": 21,
     "metadata": {},
     "output_type": "execute_result"
    }
   ],
   "source": [
    "trainingObjectIndex=1480\n",
    "imageData=trainingObjects[trainingObjectIndex].getImageData()\n",
    "print(trainingObjects[trainingObjectIndex].objectName)\n",
    "\n",
    "plt.imshow(make_lupton_rgb(imageData[:,:,0],imageData[:,:,1],imageData[:,:,2],stretch=0.2))\n",
    "plt.show()\n",
    "#plt.savefig(\"image.png\")\n",
    "\n",
    "\n",
    "\n",
    "'''\n",
    "for i in range(2448*(trainingObjectTransformNumber+1),2453*(trainingObjectTransformNumber+1)):\n",
    "    iop=trainingObjects[i].getImageData()\n",
    "    plt.imshow(make_lupton_rgb(iop[:,:,0],iop[:,:,1],iop[:,:,2],stretch=0.2))\n",
    "    plt.show()    \n",
    "'''\n"
   ]
  },
  {
   "cell_type": "code",
   "execution_count": null,
   "metadata": {
    "collapsed": true
   },
   "outputs": [],
   "source": [
    "for i in imagedObjectGenerator(trainingObjects[1000:1050],trainingObjectLabels,1):\n",
    "    imageData=i[0][0]\n",
    "    print(i[0][0].shape)\n",
    "    plt.imshow(make_lupton_rgb(imageData[:,:,0],imageData[:,:,1],imageData[:,:,2],stretch=0.2),norm=LogNorm())\n",
    "    plt.show()\n",
    "    print(i[1])"
   ]
  },
  {
   "cell_type": "code",
   "execution_count": 16,
   "metadata": {},
   "outputs": [
    {
     "name": "stdout",
     "output_type": "stream",
     "text": [
      "0,1,2\n",
      "[name: \"/device:CPU:0\"\n",
      "device_type: \"CPU\"\n",
      "memory_limit: 268435456\n",
      "locality {\n",
      "}\n",
      "incarnation: 345742492382633955\n",
      ", name: \"/device:GPU:0\"\n",
      "device_type: \"GPU\"\n",
      "memory_limit: 233776742\n",
      "locality {\n",
      "  bus_id: 1\n",
      "}\n",
      "incarnation: 1670509432952548518\n",
      "physical_device_desc: \"device: 0, name: GeForce GTX TITAN, pci bus id: 0000:01:00.0, compute capability: 3.5\"\n",
      "]\n"
     ]
    }
   ],
   "source": [
    "import os\n",
    "print(os.environ[\"CUDA_VISIBLE_DEVICES\"])\n",
    "#os.environ[\"CUDA_DEVICE_ORDER\"]=\"PCI_BUS_ID\"   # see issue #152\n",
    "#os.environ[\"CUDA_VISIBLE_DEVICES\"]=\"0,1,2,3,4,5,6,7,8,9\"\n",
    "\n",
    "from tensorflow.python.client import device_lib\n",
    "print (device_lib.list_local_devices())"
   ]
  },
  {
   "cell_type": "code",
   "execution_count": null,
   "metadata": {
    "collapsed": true
   },
   "outputs": [],
   "source": []
  }
 ],
 "metadata": {
  "kernelspec": {
   "display_name": "Python 3",
   "language": "python",
   "name": "python3"
  },
  "language_info": {
   "codemirror_mode": {
    "name": "ipython",
    "version": 3
   },
   "file_extension": ".py",
   "mimetype": "text/x-python",
   "name": "python",
   "nbconvert_exporter": "python",
   "pygments_lexer": "ipython3",
   "version": "3.6.4"
  }
 },
 "nbformat": 4,
 "nbformat_minor": 2
}
